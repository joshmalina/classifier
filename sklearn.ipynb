{
 "cells": [
  {
   "cell_type": "code",
   "execution_count": 1,
   "metadata": {
    "collapsed": true
   },
   "outputs": [],
   "source": [
    "from sklearn.model_selection import train_test_split\n",
    "import pandas as pd\n",
    "import numpy as np\n",
    "import gzip\n",
    "%matplotlib inline\n",
    "from sklearn.svm import LinearSVC"
   ]
  },
  {
   "cell_type": "code",
   "execution_count": 2,
   "metadata": {
    "collapsed": true
   },
   "outputs": [],
   "source": [
    "class w2v():\n",
    "\n",
    "    def __init__(self, path_to_vectors=\"/Users/joshuamalina/data/movies/glove.6B.50d.txt\", dim=50):\n",
    "        self.path = path_to_vectors\n",
    "        self.w2v = {}\n",
    "        self.inflate()\n",
    "        assert(dim==len(self.w2v['the']))\n",
    "    \n",
    "    def inflate(self):\n",
    "        with open(self.path, \"r\") as f:\n",
    "            ls = f.readlines()\n",
    "            for l in ls:\n",
    "                parts = l.split(' ')\n",
    "                word = parts[0]\n",
    "                embedding = map(lambda x: float(x.replace('\\n', '')), parts[1:])\n",
    "                self.w2v[word] = np.array(list(embedding))\n",
    "    \n",
    "    def textToEmbMean(self, text):\n",
    "        tokens = text.split(' ')\n",
    "        mapped = [self.w2v[w] for w in tokens if w in self.w2v]\n",
    "        if len(mapped) > 0:\n",
    "            return np.mean(mapped, axis=0)\n",
    "        else:\n",
    "            return np.zeros(50)        "
   ]
  },
  {
   "cell_type": "code",
   "execution_count": 7,
   "metadata": {
    "collapsed": true
   },
   "outputs": [],
   "source": [
    "class corpus():\n",
    "    \n",
    "    def __init__(self, path='/Users/joshuamalina/data/movies/reviews.json'):\n",
    "        self.df = self.getDF(path)\n",
    "    \n",
    "    def parse(self, path):\n",
    "      g = open(path, 'r')\n",
    "      for l in g:\n",
    "        yield eval(l)\n",
    "\n",
    "    def getDF(self, path):\n",
    "      i = 0\n",
    "      df = {}\n",
    "      for d in self.parse(path):\n",
    "        df[i] = d\n",
    "        i += 1\n",
    "      return pd.DataFrame.from_dict(df, orient='index')"
   ]
  },
  {
   "cell_type": "code",
   "execution_count": 8,
   "metadata": {
    "collapsed": true
   },
   "outputs": [],
   "source": [
    "class data():\n",
    "    \n",
    "    def __init__(self, df, w2v_instance):\n",
    "        self.df = df\n",
    "        self.w2v = w2v_instance\n",
    "        self.X = self.getX()\n",
    "        self.Y = self.getY()\n",
    "        assert(len(self.X) == len(self.Y))\n",
    "        \n",
    "    def getX(self, clean=lambda x: x):\n",
    "        return list(map(lambda x: self.w2v.textToEmbMean(clean(x)), self.df.reviewText))\n",
    "    \n",
    "    def getY(self):\n",
    "        return self.df.overall"
   ]
  },
  {
   "cell_type": "code",
   "execution_count": 9,
   "metadata": {
    "collapsed": true
   },
   "outputs": [],
   "source": [
    "class model():\n",
    "    \n",
    "    def __init__(self, X, Y, model=LinearSVC()):\n",
    "        self.X = X\n",
    "        self.Y = Y\n",
    "        self.model=model\n",
    "        \n",
    "    def trainTestSplit(self):\n",
    "        self.X_train, \\\n",
    "        self.X_test, \\\n",
    "        self.y_train, \\\n",
    "        self.y_test = train_test_split(self.X, self.Y, test_size=0.2, random_state=0)\n",
    "        \n",
    "    def fit(self):\n",
    "        self.model.fit(self.X, self.Y)"
   ]
  },
  {
   "cell_type": "code",
   "execution_count": 10,
   "metadata": {},
   "outputs": [],
   "source": [
    "w2v_ = w2v()\n",
    "corpus_ = corpus()\n",
    "data_ = data(corpus_.df, w2v_)\n",
    "X = data_.getX()\n",
    "Y = data_.getY()"
   ]
  },
  {
   "cell_type": "code",
   "execution_count": 11,
   "metadata": {
    "collapsed": true
   },
   "outputs": [],
   "source": [
    "model_ = model(X, Y)\n",
    "model_.fit()"
   ]
  },
  {
   "cell_type": "code",
   "execution_count": 18,
   "metadata": {},
   "outputs": [],
   "source": [
    "from sklearn.externals import joblib"
   ]
  },
  {
   "cell_type": "code",
   "execution_count": 19,
   "metadata": {},
   "outputs": [
    {
     "data": {
      "text/plain": [
       "['model.pkl']"
      ]
     },
     "execution_count": 19,
     "metadata": {},
     "output_type": "execute_result"
    }
   ],
   "source": [
    "joblib.dump(model_.model, 'model.pkl')"
   ]
  },
  {
   "cell_type": "code",
   "execution_count": 20,
   "metadata": {
    "collapsed": true
   },
   "outputs": [],
   "source": [
    "m = joblib.load('model.pkl')"
   ]
  },
  {
   "cell_type": "code",
   "execution_count": 21,
   "metadata": {},
   "outputs": [
    {
     "name": "stderr",
     "output_type": "stream",
     "text": [
      "/Users/joshuamalina/anaconda/lib/python3.6/site-packages/sklearn/utils/validation.py:395: DeprecationWarning: Passing 1d arrays as data is deprecated in 0.17 and will raise ValueError in 0.19. Reshape your data either using X.reshape(-1, 1) if your data has a single feature or X.reshape(1, -1) if it contains a single sample.\n",
      "  DeprecationWarning)\n"
     ]
    },
    {
     "data": {
      "text/plain": [
       "array([ 5.])"
      ]
     },
     "execution_count": 21,
     "metadata": {},
     "output_type": "execute_result"
    }
   ],
   "source": [
    "m.predict(X[0])"
   ]
  },
  {
   "cell_type": "code",
   "execution_count": null,
   "metadata": {
    "collapsed": true
   },
   "outputs": [],
   "source": []
  }
 ],
 "metadata": {
  "kernelspec": {
   "display_name": "Python 3",
   "language": "python",
   "name": "python3"
  },
  "language_info": {
   "codemirror_mode": {
    "name": "ipython",
    "version": 3
   },
   "file_extension": ".py",
   "mimetype": "text/x-python",
   "name": "python",
   "nbconvert_exporter": "python",
   "pygments_lexer": "ipython3",
   "version": "3.6.1"
  }
 },
 "nbformat": 4,
 "nbformat_minor": 1
}
